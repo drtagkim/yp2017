{
 "cells": [
  {
   "cell_type": "code",
   "execution_count": 1,
   "metadata": {
    "collapsed": false
   },
   "outputs": [],
   "source": [
    "from leekimgoo import *"
   ]
  },
  {
   "cell_type": "code",
   "execution_count": 2,
   "metadata": {
    "collapsed": true
   },
   "outputs": [],
   "source": [
    "dir_name='testoutput'\n",
    "code_name='shaking-crab-new-york-4'\n",
    "url='https://www.yelp.com/biz/shaking-crab-new-york-4'"
   ]
  },
  {
   "cell_type": "code",
   "execution_count": 3,
   "metadata": {
    "collapsed": false
   },
   "outputs": [
    {
     "name": "stdout",
     "output_type": "stream",
     "text": [
      "[2017-08-22 13:43:00.385419] page_0001\n",
      "[2017-08-22 13:43:19.653700] page_0002\n",
      "[2017-08-22 13:43:24.844814] page_0003\n",
      "[2017-08-22 13:43:27.181984] page_0004\n",
      "done\n"
     ]
    }
   ],
   "source": [
    "go(dir_name,code_name,url)"
   ]
  },
  {
   "cell_type": "code",
   "execution_count": 4,
   "metadata": {
    "collapsed": false
   },
   "outputs": [
    {
     "name": "stdout",
     "output_type": "stream",
     "text": [
      "[2017-08-22 13:52:21.931102] page_0001\n",
      "[2017-08-22 13:53:28.836748] page_0002\n",
      "[2017-08-22 13:54:22.181882] page_0003\n",
      "[2017-08-22 13:55:11.116557] page_0004\n",
      "[2017-08-22 13:55:30.717981] page_0005\n",
      "[2017-08-22 13:56:18.240846] page_0006\n",
      "[2017-08-22 13:56:43.470154] page_0007\n",
      "[2017-08-22 13:57:11.271107] page_0008\n",
      "[2017-08-22 13:57:51.529515] page_0009\n",
      "[2017-08-22 13:58:14.022436] page_0010\n",
      "[2017-08-22 13:59:01.734954] page_0011\n",
      "[2017-08-22 13:59:30.553713] page_0012\n",
      "[2017-08-22 13:59:57.131007] page_0013\n",
      "[2017-08-22 14:00:21.012360] page_0014\n",
      "[2017-08-22 14:00:51.678799] page_0015\n",
      "[2017-08-22 14:01:23.476576] page_0016\n",
      "[2017-08-22 14:01:51.121666] page_0017\n",
      "[2017-08-22 14:02:33.314976] page_0018\n",
      "[2017-08-22 14:02:51.939633] page_0019\n",
      "[2017-08-22 14:03:08.793723] page_0020\n",
      "[2017-08-22 14:03:42.426751] page_0021\n",
      "[2017-08-22 14:03:56.824705] page_0022\n",
      "[2017-08-22 14:04:28.543524] page_0023\n",
      "[2017-08-22 14:04:42.992677] page_0024\n",
      "[2017-08-22 14:05:09.402240] page_0025\n",
      "[2017-08-22 14:05:49.053803] page_0026\n",
      "[2017-08-22 14:06:01.734828] page_0027\n",
      "[2017-08-22 14:06:26.027565] page_0028\n",
      "[2017-08-22 14:06:39.575457] page_0029\n",
      "[2017-08-22 14:07:00.466450] page_0030\n",
      "[2017-08-22 14:07:17.909716] page_0031\n",
      "[2017-08-22 14:07:20.720831] page_0032\n",
      "[2017-08-22 14:07:31.324719] page_0033\n",
      "[2017-08-22 14:07:53.171764] page_0034\n",
      "[2017-08-22 14:08:12.661332] page_0035\n",
      "[2017-08-22 14:08:18.154697] page_0036\n",
      "[2017-08-22 14:08:36.968060] page_0037\n",
      "[2017-08-22 14:08:47.681075] page_0038\n",
      "[2017-08-22 14:08:58.896861] page_0039\n",
      "[2017-08-22 14:09:06.721939] page_0040\n",
      "[2017-08-22 14:09:15.010981] page_0041\n",
      "[2017-08-22 14:09:26.465949] page_0042\n",
      "[2017-08-22 14:09:42.208406] page_0043\n",
      "[2017-08-22 14:09:45.232244] page_0044\n",
      "[2017-08-22 14:09:53.477667] page_0045\n",
      "[2017-08-22 14:10:11.258428] page_0046\n",
      "[2017-08-22 14:10:26.906883] page_0047\n",
      "[2017-08-22 14:10:29.569367] page_0048\n",
      "[2017-08-22 14:10:39.738748] page_0049\n",
      "[2017-08-22 14:10:45.110071] page_0050\n",
      "[2017-08-22 14:10:55.460657] page_0051\n",
      "[2017-08-22 14:10:58.489715] page_0052\n",
      "[2017-08-22 14:11:06.632488] page_0053\n",
      "[2017-08-22 14:11:09.287201] page_0054\n",
      "[2017-08-22 14:11:12.523954] page_0055\n",
      "[2017-08-22 14:11:15.187200] page_0056\n",
      "[2017-08-22 14:11:17.877430] page_0057\n",
      "[2017-08-22 14:11:20.768940] page_0058\n",
      "[2017-08-22 14:11:23.442125] page_0059\n",
      "done\n"
     ]
    }
   ],
   "source": [
    "dir_name=\"output_newyork_01\"\n",
    "code_name=\"tasy-hand-pulled-noodles-new-york\"\n",
    "url=\"https://www.yelp.com/biz/tasty-hand-pulled-noodles-new-york\"\n",
    "go(dir_name,code_name,url)"
   ]
  },
  {
   "cell_type": "code",
   "execution_count": null,
   "metadata": {
    "collapsed": true
   },
   "outputs": [],
   "source": []
  }
 ],
 "metadata": {
  "kernelspec": {
   "display_name": "Python 3",
   "language": "python",
   "name": "python3"
  },
  "language_info": {
   "codemirror_mode": {
    "name": "ipython",
    "version": 3
   },
   "file_extension": ".py",
   "mimetype": "text/x-python",
   "name": "python",
   "nbconvert_exporter": "python",
   "pygments_lexer": "ipython3",
   "version": "3.6.0"
  }
 },
 "nbformat": 4,
 "nbformat_minor": 2
}
