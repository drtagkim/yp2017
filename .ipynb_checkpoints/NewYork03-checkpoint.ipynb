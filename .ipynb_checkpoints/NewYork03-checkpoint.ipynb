{
 "cells": [
  {
   "cell_type": "code",
   "execution_count": 1,
   "metadata": {
    "collapsed": false
   },
   "outputs": [],
   "source": [
    "from leekimgoo import *\n",
    "from excel.excelutil import *"
   ]
  },
  {
   "cell_type": "code",
   "execution_count": 2,
   "metadata": {
    "collapsed": true
   },
   "outputs": [],
   "source": [
    "dir_name=\"output_newyork_03\"\n",
    "code_name=\"joju-elmhurst\"\n",
    "url=\"https://www.yelp.com/biz/joju-elmhurst?start=820\""
   ]
  },
  {
   "cell_type": "code",
   "execution_count": 3,
   "metadata": {
    "collapsed": false
   },
   "outputs": [
    {
     "name": "stdout",
     "output_type": "stream",
     "text": [
      "End page = 62\n",
      "Sleeping...20 secs\n",
      ".s.s.s.s.s.s.s.s.s.s.s.s.s.s.s.s.s.s.s.s.s.s.s.s.s.s!\n",
      "[2017-08-22 20:18:02.793540] page_0019\n",
      "Sleeping...20 secs\n",
      ".s.s.s.s.s.s.s.s.s.s.s.s.s.s!\n",
      "[2017-08-22 20:23:37.721531] page_0020\n",
      "Sleeping...20 secs\n",
      ".s.s.s.s.s.s.s.s!\n",
      "[2017-08-22 20:27:01.707362] page_0021\n",
      "Sleeping...20 secs\n",
      ".s.s.s.s.s.s.s!\n",
      "[2017-08-22 20:30:02.385400] page_0022\n",
      "Sleeping...20 secs\n",
      ".s.s.s.s.s!\n",
      "[2017-08-22 20:32:17.309042] page_0023\n",
      "Sleeping...20 secs\n",
      ".s.s.s.s.s.s.s.s.s.s.s.s.s.s!\n",
      "[2017-08-22 20:37:55.451361] page_0024\n",
      "Sleeping...20 secs\n",
      ".s.s.s.s.s.s!\n",
      "[2017-08-22 20:40:32.299833] page_0025\n",
      "Sleeping...20 secs\n",
      ".s.s.s.s.s.s.s.s!\n",
      "[2017-08-22 20:43:54.811523] page_0026\n",
      "Sleeping...20 secs\n",
      ".s.s.s.s.s.s.s.s.s.s.s.s.s.s.s.s.s!\n",
      "[2017-08-22 20:50:39.746564] page_0027\n",
      "Sleeping...20 secs\n",
      ".s.s.s.s!\n",
      "[2017-08-22 20:52:31.349522] page_0028\n",
      "Sleeping...20 secs\n",
      ".s.s.s.s.s.s.s.s!\n",
      "[2017-08-22 20:55:52.509177] page_0029\n",
      "Sleeping...20 secs\n",
      ".s.s.s.s.s.s.s.s.s!\n",
      "[2017-08-22 20:59:37.217701] page_0030\n",
      "Sleeping...20 secs\n",
      ".s.s.s.s.s.s.s.s.s!\n",
      "[2017-08-22 21:03:25.490313] page_0031\n",
      "Sleeping...20 secs\n",
      ".s.s.s.s.s.s.s.s.s.s.s!\n",
      "[2017-08-22 21:07:56.608180] page_0032\n",
      "Sleeping...20 secs\n",
      ".s.s.s.s.s.s.s!\n",
      "[2017-08-22 21:10:57.205537] page_0033\n",
      "Sleeping...20 secs\n",
      ".s.s.s.s.s.s!\n",
      "[2017-08-22 21:13:35.940596] page_0034\n",
      "Sleeping...20 secs\n",
      ".s.s!\n",
      "[2017-08-22 21:14:45.227420] page_0035\n",
      "Sleeping...20 secs\n",
      ".s.s.s.s.s.s.s.s.s.s.s.s!\n",
      "[2017-08-22 21:19:39.410133] page_0036\n",
      "Sleeping...20 secs\n",
      ".s.s.s!\n",
      "[2017-08-22 21:21:09.438605] page_0037\n",
      "Sleeping...20 secs\n",
      ".s.s.s.s.s!\n",
      "[2017-08-22 21:23:24.603538] page_0038\n",
      "Sleeping...20 secs\n",
      ".s.s.s.s.s.s.s!\n",
      "[2017-08-22 21:26:22.634715] page_0039\n",
      "Sleeping...20 secs\n",
      ".s.s.s.s.s.s.s!\n",
      "[2017-08-22 21:29:23.689463] page_0040\n",
      "Sleeping...20 secs\n",
      ".s.s.s.s.s!\n",
      "[2017-08-22 21:31:35.699607] page_0041\n",
      "Sleeping...20 secs\n",
      ".s.s.s."
     ]
    },
    {
     "ename": "AttributeError",
     "evalue": "'NoneType' object has no attribute 'css_text'",
     "output_type": "error",
     "traceback": [
      "\u001b[0;31m---------------------------------------------------------------------------\u001b[0m",
      "\u001b[0;31mAttributeError\u001b[0m                            Traceback (most recent call last)",
      "\u001b[0;32m<ipython-input-3-0d08e29ba683>\u001b[0m in \u001b[0;36m<module>\u001b[0;34m()\u001b[0m\n\u001b[0;32m----> 1\u001b[0;31m \u001b[0mgo\u001b[0m\u001b[1;33m(\u001b[0m\u001b[0mdir_name\u001b[0m\u001b[1;33m,\u001b[0m\u001b[0mcode_name\u001b[0m\u001b[1;33m,\u001b[0m\u001b[0murl\u001b[0m\u001b[1;33m,\u001b[0m\u001b[0mstart\u001b[0m\u001b[1;33m=\u001b[0m\u001b[1;36m19\u001b[0m\u001b[1;33m,\u001b[0m\u001b[0mpoliteness\u001b[0m\u001b[1;33m=\u001b[0m\u001b[1;36m20\u001b[0m\u001b[1;33m)\u001b[0m\u001b[1;33m\u001b[0m\u001b[0m\n\u001b[0m",
      "\u001b[0;32mC:\\Users\\masan\\Documents\\GitHub\\yp2017\\leekimgoo.py\u001b[0m in \u001b[0;36mgo\u001b[0;34m(dir_name, code_name, url, verbose, start, end, politeness)\u001b[0m\n\u001b[1;32m    281\u001b[0m     \u001b[1;32mwhile\u001b[0m \u001b[1;32mTrue\u001b[0m\u001b[1;33m:\u001b[0m\u001b[1;33m\u001b[0m\u001b[0m\n\u001b[1;32m    282\u001b[0m         \u001b[0mfname\u001b[0m\u001b[1;33m=\u001b[0m\u001b[1;34m\"{}_{:03d}\"\u001b[0m\u001b[1;33m.\u001b[0m\u001b[0mformat\u001b[0m\u001b[1;33m(\u001b[0m\u001b[0mcode_name\u001b[0m\u001b[1;33m,\u001b[0m\u001b[0mi\u001b[0m\u001b[1;33m)\u001b[0m\u001b[1;33m\u001b[0m\u001b[0m\n\u001b[0;32m--> 283\u001b[0;31m         \u001b[0muser\u001b[0m\u001b[1;33m,\u001b[0m\u001b[0mreview\u001b[0m\u001b[1;33m,\u001b[0m\u001b[0mphoto_frame\u001b[0m\u001b[1;33m=\u001b[0m\u001b[0mextract_yp\u001b[0m\u001b[1;33m(\u001b[0m\u001b[0ms\u001b[0m\u001b[1;33m,\u001b[0m\u001b[0mverbose\u001b[0m\u001b[1;33m=\u001b[0m\u001b[0mverbose\u001b[0m\u001b[1;33m,\u001b[0m\u001b[0mpoliteness\u001b[0m\u001b[1;33m=\u001b[0m\u001b[0mpoliteness\u001b[0m\u001b[1;33m)\u001b[0m\u001b[1;33m\u001b[0m\u001b[0m\n\u001b[0m\u001b[1;32m    284\u001b[0m         \u001b[0mwrite_output\u001b[0m\u001b[1;33m(\u001b[0m\u001b[0mdir_name\u001b[0m\u001b[1;33m,\u001b[0m\u001b[0mfname\u001b[0m\u001b[1;33m,\u001b[0m\u001b[0muser\u001b[0m\u001b[1;33m,\u001b[0m\u001b[0mreview\u001b[0m\u001b[1;33m,\u001b[0m\u001b[0mphoto_frame\u001b[0m\u001b[1;33m)\u001b[0m\u001b[1;33m\u001b[0m\u001b[0m\n\u001b[1;32m    285\u001b[0m         \u001b[1;32mif\u001b[0m \u001b[0mverbose\u001b[0m\u001b[1;33m:\u001b[0m\u001b[1;33m\u001b[0m\u001b[0m\n",
      "\u001b[0;32mC:\\Users\\masan\\Documents\\GitHub\\yp2017\\leekimgoo.py\u001b[0m in \u001b[0;36mextract_yp\u001b[0;34m(s, verbose, politeness)\u001b[0m\n\u001b[1;32m    228\u001b[0m                     \u001b[0msys\u001b[0m\u001b[1;33m.\u001b[0m\u001b[0mstdout\u001b[0m\u001b[1;33m.\u001b[0m\u001b[0mwrite\u001b[0m\u001b[1;33m(\u001b[0m\u001b[1;34m\".\"\u001b[0m\u001b[1;33m)\u001b[0m\u001b[1;33m\u001b[0m\u001b[0m\n\u001b[1;32m    229\u001b[0m                 \u001b[0mr0\u001b[0m\u001b[1;33m=\u001b[0m\u001b[0mRequestScraper\u001b[0m\u001b[1;33m.\u001b[0m\u001b[0mfactory\u001b[0m\u001b[1;33m(\u001b[0m\u001b[0mpurl\u001b[0m\u001b[1;33m)\u001b[0m \u001b[1;31m#photo profile\u001b[0m\u001b[1;33m\u001b[0m\u001b[0m\n\u001b[0;32m--> 230\u001b[0;31m                 \u001b[0mp\u001b[0m\u001b[1;33m=\u001b[0m\u001b[0mPhotoInReview\u001b[0m\u001b[1;33m(\u001b[0m\u001b[0mr0\u001b[0m\u001b[1;33m,\u001b[0m\u001b[0mrid\u001b[0m\u001b[1;33m)\u001b[0m\u001b[1;33m\u001b[0m\u001b[0m\n\u001b[0m\u001b[1;32m    231\u001b[0m                 \u001b[0mphoto_result\u001b[0m\u001b[1;33m.\u001b[0m\u001b[0mappend\u001b[0m\u001b[1;33m(\u001b[0m\u001b[0mp\u001b[0m\u001b[1;33m)\u001b[0m\u001b[1;33m\u001b[0m\u001b[0m\n\u001b[1;32m    232\u001b[0m                 \u001b[1;32mif\u001b[0m \u001b[0mverbose\u001b[0m\u001b[1;33m:\u001b[0m\u001b[1;33m\u001b[0m\u001b[0m\n",
      "\u001b[0;32mC:\\Users\\masan\\Documents\\GitHub\\yp2017\\leekimgoo.py\u001b[0m in \u001b[0;36m__init__\u001b[0;34m(self, selector, rid)\u001b[0m\n\u001b[1;32m    128\u001b[0m         \u001b[0mself\u001b[0m\u001b[1;33m.\u001b[0m\u001b[0mselector\u001b[0m\u001b[1;33m=\u001b[0m\u001b[0mselector\u001b[0m\u001b[1;33m\u001b[0m\u001b[0m\n\u001b[1;32m    129\u001b[0m         \u001b[0mself\u001b[0m\u001b[1;33m.\u001b[0m\u001b[0mrid\u001b[0m\u001b[1;33m=\u001b[0m\u001b[0mrid\u001b[0m\u001b[1;33m\u001b[0m\u001b[0m\n\u001b[0;32m--> 130\u001b[0;31m         \u001b[0mself\u001b[0m\u001b[1;33m.\u001b[0m\u001b[0mget_helpful\u001b[0m\u001b[1;33m(\u001b[0m\u001b[1;33m)\u001b[0m\u001b[1;33m\u001b[0m\u001b[0m\n\u001b[0m\u001b[1;32m    131\u001b[0m         \u001b[0mself\u001b[0m\u001b[1;33m.\u001b[0m\u001b[0mget_not_helpful\u001b[0m\u001b[1;33m(\u001b[0m\u001b[1;33m)\u001b[0m\u001b[1;33m\u001b[0m\u001b[0m\n\u001b[1;32m    132\u001b[0m         \u001b[0mself\u001b[0m\u001b[1;33m.\u001b[0m\u001b[0mget_photo_url\u001b[0m\u001b[1;33m(\u001b[0m\u001b[1;33m)\u001b[0m\u001b[1;33m\u001b[0m\u001b[0m\n",
      "\u001b[0;32mC:\\Users\\masan\\Documents\\GitHub\\yp2017\\leekimgoo.py\u001b[0m in \u001b[0;36mget_helpful\u001b[0;34m(self)\u001b[0m\n\u001b[1;32m    134\u001b[0m     \u001b[1;32mdef\u001b[0m \u001b[0mget_helpful\u001b[0m\u001b[1;33m(\u001b[0m\u001b[0mself\u001b[0m\u001b[1;33m)\u001b[0m\u001b[1;33m:\u001b[0m\u001b[1;33m\u001b[0m\u001b[0m\n\u001b[1;32m    135\u001b[0m         \u001b[0mselector\u001b[0m\u001b[1;33m=\u001b[0m\u001b[0mself\u001b[0m\u001b[1;33m.\u001b[0m\u001b[0mselector\u001b[0m\u001b[1;33m\u001b[0m\u001b[0m\n\u001b[0;32m--> 136\u001b[0;31m         \u001b[0mhelpful\u001b[0m\u001b[1;33m=\u001b[0m\u001b[0mselector\u001b[0m\u001b[1;33m.\u001b[0m\u001b[0mcss_text\u001b[0m\u001b[1;33m(\u001b[0m\u001b[0mPhotoInReview\u001b[0m\u001b[1;33m.\u001b[0m\u001b[0mcss_helpful\u001b[0m\u001b[1;33m)\u001b[0m\u001b[1;33m\u001b[0m\u001b[0m\n\u001b[0m\u001b[1;32m    137\u001b[0m         \u001b[1;32mif\u001b[0m \u001b[0mlen\u001b[0m\u001b[1;33m(\u001b[0m\u001b[0mhelpful\u001b[0m\u001b[1;33m)\u001b[0m\u001b[1;33m==\u001b[0m\u001b[1;36m0\u001b[0m\u001b[1;33m:\u001b[0m\u001b[1;33m\u001b[0m\u001b[0m\n\u001b[1;32m    138\u001b[0m             \u001b[0mself\u001b[0m\u001b[1;33m.\u001b[0m\u001b[0mhelpful\u001b[0m\u001b[1;33m=\u001b[0m\u001b[1;36m0\u001b[0m\u001b[1;33m\u001b[0m\u001b[0m\n",
      "\u001b[0;31mAttributeError\u001b[0m: 'NoneType' object has no attribute 'css_text'"
     ]
    }
   ],
   "source": [
    "go(dir_name,code_name,url,start=42,politeness=40)"
   ]
  },
  {
   "cell_type": "code",
   "execution_count": 4,
   "metadata": {
    "collapsed": false
   },
   "outputs": [],
   "source": [
    "Combiner.c(dir_name,\"output/new-york-{:02d}a.xls\".format(3),0)\n",
    "Combiner.c(dir_name,\"output/new-york-{:02d}b.xls\".format(3),1)"
   ]
  },
  {
   "cell_type": "code",
   "execution_count": null,
   "metadata": {
    "collapsed": true
   },
   "outputs": [],
   "source": []
  }
 ],
 "metadata": {
  "kernelspec": {
   "display_name": "Python 3",
   "language": "python",
   "name": "python3"
  },
  "language_info": {
   "codemirror_mode": {
    "name": "ipython",
    "version": 3
   },
   "file_extension": ".py",
   "mimetype": "text/x-python",
   "name": "python",
   "nbconvert_exporter": "python",
   "pygments_lexer": "ipython3",
   "version": "3.6.0"
  }
 },
 "nbformat": 4,
 "nbformat_minor": 2
}
