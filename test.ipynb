{
 "cells": [
  {
   "cell_type": "code",
   "execution_count": 1,
   "metadata": {
    "collapsed": true
   },
   "outputs": [],
   "source": [
    "from leekimgoo import *"
   ]
  },
  {
   "cell_type": "markdown",
   "metadata": {},
   "source": [
    "## Test Yelp review crawling"
   ]
  },
  {
   "cell_type": "code",
   "execution_count": 2,
   "metadata": {
    "collapsed": false,
    "scrolled": true
   },
   "outputs": [
    {
     "name": "stdout",
     "output_type": "stream",
     "text": [
      "61e0e071-1cd8-4547-9c80-26126dd7008e.61e0e071-1cd8-4547-9c80-26126dd7008e.61e0e071-1cd8-4547-9c80-26126dd7008e.!\n",
      "!\n",
      "!\n",
      "d5a5a47b-e852-4f9b-9108-c92096125bff.!\n",
      "faee7159-eeeb-4779-9cde-5eccf4f76cfb.faee7159-eeeb-4779-9cde-5eccf4f76cfb.faee7159-eeeb-4779-9cde-5eccf4f76cfb.!\n",
      "5a0fbda3-9303-46db-8166-66e763c210c8.!\n",
      "ee8fcea5-4f72-4614-b3b4-384a2dc44753.!\n",
      "!\n",
      "5ab26044-9b9c-4683-8e4e-6144d50d7c2a.5ab26044-9b9c-4683-8e4e-6144d50d7c2a.!\n",
      "3a5190a2-fd2c-40bc-81bb-49deb1b5e7b1.3a5190a2-fd2c-40bc-81bb-49deb1b5e7b1.3a5190a2-fd2c-40bc-81bb-49deb1b5e7b1.!\n",
      "!\n",
      "!\n",
      "2110c278-4cd7-43e0-b13d-c039e7944fea.2110c278-4cd7-43e0-b13d-c039e7944fea.!\n",
      "!\n",
      "!\n",
      "!\n",
      "3f397e5c-287f-4170-b968-e75f526c60ae.3f397e5c-287f-4170-b968-e75f526c60ae.3f397e5c-287f-4170-b968-e75f526c60ae.!\n",
      "!\n",
      "!\n",
      "!\n"
     ]
    }
   ],
   "source": [
    "user,review,photo_frame = test()"
   ]
  },
  {
   "cell_type": "code",
   "execution_count": 3,
   "metadata": {
    "collapsed": true
   },
   "outputs": [],
   "source": [
    "test_out(user,review,photo_frame)"
   ]
  },
  {
   "cell_type": "markdown",
   "metadata": {},
   "source": [
    "![img01](img/img01.png)"
   ]
  },
  {
   "cell_type": "markdown",
   "metadata": {},
   "source": [
    "![img02](img/img02.png)"
   ]
  },
  {
   "cell_type": "markdown",
   "metadata": {},
   "source": [
    "## Combine Excel files"
   ]
  },
  {
   "cell_type": "code",
   "execution_count": 5,
   "metadata": {
    "collapsed": false
   },
   "outputs": [],
   "source": [
    "from excel.excelutil import *"
   ]
  },
  {
   "cell_type": "code",
   "execution_count": 6,
   "metadata": {
    "collapsed": true
   },
   "outputs": [],
   "source": [
    "Combiner.c(\"test\",\"testcombine.xls\",1)"
   ]
  },
  {
   "cell_type": "markdown",
   "metadata": {},
   "source": [
    "![](img/img03.png)"
   ]
  },
  {
   "cell_type": "code",
   "execution_count": 7,
   "metadata": {
    "collapsed": true
   },
   "outputs": [],
   "source": [
    "Combiner.c(\"test\",\"testcombine1.xls\",0)"
   ]
  },
  {
   "cell_type": "markdown",
   "metadata": {},
   "source": [
    "![](img/img04.png)"
   ]
  },
  {
   "cell_type": "code",
   "execution_count": null,
   "metadata": {
    "collapsed": true
   },
   "outputs": [],
   "source": []
  }
 ],
 "metadata": {
  "kernelspec": {
   "display_name": "Python 3",
   "language": "python",
   "name": "python3"
  },
  "language_info": {
   "codemirror_mode": {
    "name": "ipython",
    "version": 3
   },
   "file_extension": ".py",
   "mimetype": "text/x-python",
   "name": "python",
   "nbconvert_exporter": "python",
   "pygments_lexer": "ipython3",
   "version": "3.6.0"
  }
 },
 "nbformat": 4,
 "nbformat_minor": 2
}
