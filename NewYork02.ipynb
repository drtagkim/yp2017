{
 "cells": [
  {
   "cell_type": "code",
   "execution_count": 1,
   "metadata": {
    "collapsed": false
   },
   "outputs": [],
   "source": [
    "from leekimgoo import *\n",
    "from excel.excelutil import *"
   ]
  },
  {
   "cell_type": "code",
   "execution_count": 2,
   "metadata": {
    "collapsed": true
   },
   "outputs": [],
   "source": [
    "dir_name=\"output_newyork_02\"\n",
    "code_name=\"breakroom-new-york\"\n",
    "url=\"https://www.yelp.com/biz/breakroom-new-york\""
   ]
  },
  {
   "cell_type": "markdown",
   "metadata": {},
   "source": [
    "Politeness=20 seconds. 너무 빨리 크롤링하면 블락당한다."
   ]
  },
  {
   "cell_type": "code",
   "execution_count": 3,
   "metadata": {
    "collapsed": false
   },
   "outputs": [
    {
     "name": "stdout",
     "output_type": "stream",
     "text": [
      "Target = 61\n",
      "Sleeping...20 secs\n",
      ".s.s.s.s.s.s.s.s.s!\n",
      "[2017-08-22 17:46:16.430677] page_0024\n",
      "Sleeping...20 secs\n",
      ".s.s.s.s.s.s.s.s.s.s.s.s.s.s.s.s.s.s.s.s.s.s.s!\n",
      "[2017-08-22 17:55:10.207979] page_0025\n",
      "Sleeping...20 secs\n",
      ".s.s.s.s.s.s.s.s.s.s.s.s.s.s!\n",
      "[2017-08-22 18:00:46.259948] page_0026\n",
      "Sleeping...20 secs\n",
      ".s.s.s.s.s.s.s.s.s!\n",
      "[2017-08-22 18:04:27.850176] page_0027\n",
      "Sleeping...20 secs\n",
      ".s.s.s.s!\n",
      "[2017-08-22 18:06:19.841646] page_0028\n",
      "Sleeping...20 secs\n",
      ".s.s.s.s.s.s.s.s.s!\n",
      "[2017-08-22 18:10:04.022731] page_0029\n",
      "Sleeping...20 secs\n",
      ".s.s.s.s.s.s.s.s.s.s!\n",
      "[2017-08-22 18:14:09.909592] page_0030\n",
      "Sleeping...20 secs\n",
      ".s.s.s.s.s.s.s.s.s.s.s.s.s!\n",
      "[2017-08-22 18:19:23.019635] page_0031\n",
      "Sleeping...20 secs\n",
      ".s.s.s.s.s.s!\n",
      "[2017-08-22 18:21:59.206559] page_0032\n",
      "Sleeping...20 secs\n",
      ".s.s.s.s.s.s.s.s.s.s.s.s.s!\n",
      "[2017-08-22 18:27:11.024038] page_0033\n",
      "Sleeping...20 secs\n",
      ".s.s.s!\n",
      "[2017-08-22 18:28:40.203976] page_0034\n",
      "Sleeping...20 secs\n",
      ".s.s.s!\n",
      "[2017-08-22 18:30:08.752936] page_0035\n",
      "Sleeping...20 secs\n",
      ".s.s.s.s.s.s.s!\n",
      "[2017-08-22 18:33:06.391823] page_0036\n",
      "Sleeping...20 secs\n",
      ".s.s.s.s!\n",
      "[2017-08-22 18:34:58.009969] page_0037\n",
      "Sleeping...20 secs\n",
      ".s!\n",
      "[2017-08-22 18:35:42.690533] page_0038\n",
      "Sleeping...20 secs\n",
      ".s.s.s!\n",
      "[2017-08-22 18:37:12.067745] page_0039\n",
      "Sleeping...20 secs\n",
      ".s.s.s!\n",
      "[2017-08-22 18:38:41.168475] page_0040\n",
      "Sleeping...20 secs\n",
      "!\n",
      "[2017-08-22 18:39:03.801719] page_0041\n",
      "Sleeping...20 secs\n",
      ".s!\n",
      "[2017-08-22 18:39:48.911965] page_0042\n",
      "Sleeping...20 secs\n",
      ".s!\n",
      "[2017-08-22 18:40:33.506143] page_0043\n",
      "Sleeping...20 secs\n",
      ".s.s.s.s!\n",
      "[2017-08-22 18:42:26.256529] page_0044\n",
      "Sleeping...20 secs\n",
      ".s.s!\n",
      "[2017-08-22 18:43:40.749048] page_0045\n",
      "Sleeping...20 secs\n",
      "!\n",
      "[2017-08-22 18:44:03.781154] page_0046\n",
      "Sleeping...20 secs\n",
      ".s.s.s.s.s!\n",
      "[2017-08-22 18:46:18.635385] page_0047\n",
      "Sleeping...20 secs\n",
      ".s.s.s!\n",
      "[2017-08-22 18:47:47.417635] page_0048\n",
      "Sleeping...20 secs\n",
      ".s!\n",
      "[2017-08-22 18:48:32.071175] page_0049\n",
      "Sleeping...20 secs\n",
      ".s.s.s!\n",
      "[2017-08-22 18:50:02.868533] page_0050\n",
      "Sleeping...20 secs\n",
      ".s.s.s.s!\n",
      "[2017-08-22 18:51:55.173809] page_0051\n",
      "Sleeping...20 secs\n",
      ".s.s.s.s.s.s!\n",
      "[2017-08-22 18:54:32.624137] page_0052\n",
      "Sleeping...20 secs\n",
      ".s.s!\n",
      "[2017-08-22 18:55:41.384397] page_0053\n",
      "Sleeping...20 secs\n",
      ".s!\n",
      "[2017-08-22 18:56:26.541561] page_0054\n",
      "Sleeping...20 secs\n",
      "!\n",
      "[2017-08-22 18:56:49.451798] page_0055\n",
      "Sleeping...20 secs\n",
      "!\n",
      "[2017-08-22 18:57:11.996151] page_0056\n",
      "Sleeping...20 secs\n",
      "!\n",
      "[2017-08-22 18:57:34.501052] page_0057\n",
      "Sleeping...20 secs\n",
      "!\n",
      "[2017-08-22 18:57:57.368496] page_0058\n",
      "Sleeping...20 secs\n",
      "!\n",
      "[2017-08-22 18:58:19.861143] page_0059\n",
      "Sleeping...20 secs\n",
      ".s!\n",
      "[2017-08-22 18:59:04.974766] page_0060\n",
      "Sleeping...20 secs\n",
      ".s!\n",
      "[2017-08-22 18:59:49.963602] page_0061\n",
      "Sleeping...20 secs\n",
      "!\n",
      "[2017-08-22 19:00:13.953411] page_0062\n",
      "done\n"
     ]
    }
   ],
   "source": [
    "go(dir_name,code_name,url,start=1,politeness=20)"
   ]
  },
  {
   "cell_type": "code",
   "execution_count": 4,
   "metadata": {
    "collapsed": false
   },
   "outputs": [],
   "source": [
    "Combiner.c(dir_name,\"output/new-york-{:02d}a.xls\".format(2),0)\n",
    "Combiner.c(dir_name,\"output/new-york-{:02d}b.xls\".format(2),1)"
   ]
  },
  {
   "cell_type": "code",
   "execution_count": null,
   "metadata": {
    "collapsed": true
   },
   "outputs": [],
   "source": []
  }
 ],
 "metadata": {
  "kernelspec": {
   "display_name": "Python 3",
   "language": "python",
   "name": "python3"
  },
  "language_info": {
   "codemirror_mode": {
    "name": "ipython",
    "version": 3
   },
   "file_extension": ".py",
   "mimetype": "text/x-python",
   "name": "python",
   "nbconvert_exporter": "python",
   "pygments_lexer": "ipython3",
   "version": "3.6.0"
  }
 },
 "nbformat": 4,
 "nbformat_minor": 2
}
